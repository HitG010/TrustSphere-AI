{
 "cells": [
  {
   "cell_type": "code",
   "execution_count": 1,
   "id": "0da8254e",
   "metadata": {},
   "outputs": [],
   "source": [
    "import igraph as ig\n",
    "import networkx as nx\n",
    "import torch\n",
    "\n",
    "def nx_to_igraph(nx_g):\n",
    "    g = ig.Graph()\n",
    "    g.add_vertices(list(nx_g.nodes()))\n",
    "    edges = list(nx_g.edges())\n",
    "    g.add_edges(edges)\n",
    "\n",
    "    # Copy node attributes\n",
    "    for node in g.vs:\n",
    "        node_id = node.index\n",
    "        node_attrs = nx_g.nodes[node_id]\n",
    "        for key, value in node_attrs.items():\n",
    "            node[key] = value\n",
    "\n",
    "    return g\n"
   ]
  },
  {
   "cell_type": "code",
   "execution_count": 2,
   "id": "a8043dd4",
   "metadata": {},
   "outputs": [],
   "source": [
    "import networkx as nx\n",
    "\n",
    "def hetero_to_networkx(data):\n",
    "    G = nx.Graph()\n",
    "    node_id_map = {}\n",
    "    curr_id = 0\n",
    "\n",
    "    for ntype in data.node_types:\n",
    "        for i in range(data[ntype].num_nodes):\n",
    "            G.add_node(curr_id, node_type=ntype, orig_id=i)\n",
    "            node_id_map[(ntype, i)] = curr_id\n",
    "            curr_id += 1\n",
    "\n",
    "    for src_type, rel, dst_type in data.edge_types:\n",
    "        edge_index = data[(src_type, rel, dst_type)].edge_index\n",
    "        for src, dst in zip(edge_index[0].tolist(), edge_index[1].tolist()):\n",
    "            src_global = node_id_map[(src_type, src)]\n",
    "            dst_global = node_id_map[(dst_type, dst)]\n",
    "            G.add_edge(src_global, dst_global, edge_type=rel)\n",
    "\n",
    "    return G, node_id_map\n"
   ]
  },
  {
   "cell_type": "code",
   "execution_count": 3,
   "id": "7fae6a5b",
   "metadata": {},
   "outputs": [
    {
     "name": "stderr",
     "output_type": "stream",
     "text": [
      "/Users/hiteshgupta/Documents/TrustsphereAI/trustAI/lib/python3.10/site-packages/tqdm/auto.py:21: TqdmWarning: IProgress not found. Please update jupyter and ipywidgets. See https://ipywidgets.readthedocs.io/en/stable/user_install.html\n",
      "  from .autonotebook import tqdm as notebook_tqdm\n"
     ]
    }
   ],
   "source": [
    "import leidenalg\n",
    "\n",
    "data = torch.load('../hetero_graph.pt', weights_only=False)\n",
    "# Convert your heterogeneous graph\n",
    "G_nx, node_id_map = hetero_to_networkx(data)\n",
    "G_ig = nx_to_igraph(G_nx)\n",
    "\n",
    "# Run Leiden algorithm\n",
    "partition = leidenalg.find_partition(G_ig, leidenalg.ModularityVertexPartition)\n",
    "\n",
    "# Map: community_id → list of node IDs\n",
    "from collections import defaultdict\n",
    "community_nodes = defaultdict(list)\n",
    "for node, comm_id in enumerate(partition.membership):\n",
    "    community_nodes[comm_id].append(node)\n"
   ]
  },
  {
   "cell_type": "code",
   "execution_count": 4,
   "id": "94fd5af3",
   "metadata": {},
   "outputs": [],
   "source": [
    "def compute_suspiciousness(G, community_nodes_dict):\n",
    "    scores = {}\n",
    "    for comm_id, nodes in community_nodes_dict.items():\n",
    "        subG = G.subgraph(nodes)\n",
    "        num_nodes = subG.number_of_nodes()\n",
    "        num_edges = subG.number_of_edges()\n",
    "        max_edges = num_nodes * (num_nodes - 1) / 2\n",
    "        density = num_edges / max_edges if max_edges > 0 else 0\n",
    "\n",
    "        reviewers = [n for n in nodes if G.nodes[n].get('node_type') == 'reviewer']\n",
    "        products = [n for n in nodes if G.nodes[n].get('node_type') == 'product']\n",
    "        rev_to_prod_ratio = len(reviewers) / (len(products) + 1e-5)\n",
    "\n",
    "        avg_degree = sum(dict(subG.degree()).values()) / num_nodes if num_nodes > 0 else 0\n",
    "\n",
    "        # Heuristic score: you can adjust weights\n",
    "        score = 0.4 * density + 0.4 * rev_to_prod_ratio + 0.2 * avg_degree\n",
    "        scores[comm_id] = score\n",
    "    return scores\n"
   ]
  },
  {
   "cell_type": "code",
   "execution_count": 5,
   "id": "d497524e",
   "metadata": {},
   "outputs": [],
   "source": [
    "suspiciousness_scores = compute_suspiciousness(G_nx, community_nodes)"
   ]
  },
  {
   "cell_type": "code",
   "execution_count": 6,
   "id": "6dc83469",
   "metadata": {},
   "outputs": [],
   "source": [
    "# Sort original suspiciousness scores\n",
    "sorted_sus = sorted(suspiciousness_scores.items(), key=lambda x: x[1], reverse=True)\n",
    "\n",
    "# Normalize by number of nodes in each community\n",
    "normalized_sus = []\n",
    "for comm_id, score in sorted_sus:\n",
    "    num_nodes = len(community_nodes[comm_id])\n",
    "    norm_score = score / (num_nodes + 1e-6)  # to avoid divide-by-zero\n",
    "    normalized_sus.append((comm_id, score, norm_score, num_nodes))\n",
    "\n",
    "# Sort by normalized suspiciousness score\n",
    "normalized_sus.sort(key=lambda x: x[2], reverse=True)\n"
   ]
  },
  {
   "cell_type": "code",
   "execution_count": 7,
   "id": "1f3adab3",
   "metadata": {},
   "outputs": [
    {
     "name": "stdout",
     "output_type": "stream",
     "text": [
      "Top suspicious communities (Normalized Suspiciousness per Node):\n",
      "Community 34: Norm Suspiciousness = 0.2029 | Raw = 14.41 | Nodes = 71\n",
      "Community 23: Norm Suspiciousness = 0.2009 | Raw = 44.00 | Nodes = 219\n",
      "Community 21: Norm Suspiciousness = 0.2009 | Raw = 45.20 | Nodes = 225\n",
      "Community 19: Norm Suspiciousness = 0.2008 | Raw = 47.60 | Nodes = 237\n",
      "Community 12: Norm Suspiciousness = 0.2004 | Raw = 108.40 | Nodes = 541\n",
      "Community 38: Norm Suspiciousness = 0.2002 | Raw = 8.41 | Nodes = 42\n",
      "Community 1: Norm Suspiciousness = 0.2001 | Raw = 388.40 | Nodes = 1941\n",
      "Community 26: Norm Suspiciousness = 0.2000 | Raw = 34.40 | Nodes = 172\n",
      "Community 16: Norm Suspiciousness = 0.2000 | Raw = 84.40 | Nodes = 422\n",
      "Community 6: Norm Suspiciousness = 0.2000 | Raw = 179.60 | Nodes = 898\n",
      "Community 5: Norm Suspiciousness = 0.1998 | Raw = 186.40 | Nodes = 933\n",
      "Community 8: Norm Suspiciousness = 0.1997 | Raw = 153.20 | Nodes = 767\n",
      "Community 10: Norm Suspiciousness = 0.1997 | Raw = 145.20 | Nodes = 727\n",
      "Community 11: Norm Suspiciousness = 0.1997 | Raw = 125.20 | Nodes = 627\n",
      "Community 13: Norm Suspiciousness = 0.1996 | Raw = 100.80 | Nodes = 505\n"
     ]
    }
   ],
   "source": [
    "print(\"Top suspicious communities (Normalized Suspiciousness per Node):\")\n",
    "for comm_id, raw_score, norm_score, num_nodes in normalized_sus[:15]:\n",
    "    print(f\"Community {comm_id}: Norm Suspiciousness = {norm_score:.4f} | Raw = {raw_score:.2f} | Nodes = {num_nodes}\")\n"
   ]
  },
  {
   "cell_type": "code",
   "execution_count": 12,
   "id": "7fd60752",
   "metadata": {},
   "outputs": [
    {
     "name": "stdout",
     "output_type": "stream",
     "text": [
      "Community 34 contains:\n",
      "🧑 Reviewers (35):\n",
      "[132, 133, 134, 135, 136, 137, 138, 139, 140, 141, 142, 143, 144, 145, 146, 147, 148, 149, 150, 151]\n",
      "\n",
      "📦 Products (1):\n",
      "[0]\n"
     ]
    }
   ],
   "source": [
    "def get_reviewer_asin_from_community(G, community_nodes, community_id):\n",
    "    nodes = community_nodes[community_id]\n",
    "    reviewers = []\n",
    "    products = []\n",
    "\n",
    "    for n in nodes:\n",
    "        node_data = G.nodes[n]\n",
    "        if node_data.get('node_type') == 'reviewer':\n",
    "            reviewers.append(node_data.get('reviewerId', n))  # fallback to node ID if missing\n",
    "        elif node_data.get('node_type') == 'product':\n",
    "            products.append(node_data.get('asin', n))\n",
    "\n",
    "    return reviewers, products\n",
    "\n",
    "# Example usage:\n",
    "community_id = 34  # Change this to the desired suspicious community number\n",
    "reviewers, products = get_reviewer_asin_from_community(G_nx, community_nodes, community_id)\n",
    "\n",
    "print(f\"Community {community_id} contains:\")\n",
    "print(f\"🧑 Reviewers ({len(reviewers)}):\")\n",
    "print(reviewers[:20])  # Show first 20\n",
    "\n",
    "print(f\"\\n📦 Products ({len(products)}):\")\n",
    "print(products[:20])  # Show first 20\n"
   ]
  },
  {
   "cell_type": "code",
   "execution_count": null,
   "id": "184d7195",
   "metadata": {},
   "outputs": [],
   "source": []
  }
 ],
 "metadata": {
  "kernelspec": {
   "display_name": "trustAI",
   "language": "python",
   "name": "python3"
  },
  "language_info": {
   "codemirror_mode": {
    "name": "ipython",
    "version": 3
   },
   "file_extension": ".py",
   "mimetype": "text/x-python",
   "name": "python",
   "nbconvert_exporter": "python",
   "pygments_lexer": "ipython3",
   "version": "3.10.0"
  }
 },
 "nbformat": 4,
 "nbformat_minor": 5
}
